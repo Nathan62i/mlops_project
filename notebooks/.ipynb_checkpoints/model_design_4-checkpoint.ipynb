{
 "cells": [
  {
   "cell_type": "code",
   "execution_count": 7,
   "id": "eb8fcb6f-fc85-4dd9-b186-1f32a5629afd",
   "metadata": {},
   "outputs": [
    {
     "name": "stdout",
     "output_type": "stream",
     "text": [
      "\u001b[1m============================= test session starts ==============================\u001b[0m\n",
      "platform linux -- Python 3.10.12, pytest-8.3.3, pluggy-1.5.0\n",
      "rootdir: /home/m2ml/nathan.gerussi.etu/Desktop/MLOPS/mlops_project\n",
      "plugins: anyio-4.6.2.post1\n",
      "collected 4 items\n",
      "\n",
      "../tests/test_model.py \u001b[31mE\u001b[0m\u001b[31mE\u001b[0m\u001b[31mE\u001b[0m\u001b[31mE\u001b[0m\u001b[31m                                              [100%]\u001b[0m\n",
      "\n",
      "==================================== ERRORS ====================================\n",
      "\u001b[31m\u001b[1m_____________________ ERROR at setup of test_entree_simple _____________________\u001b[0m\n",
      "file /home/m2ml/nathan.gerussi.etu/Desktop/MLOPS/mlops_project/tests/test_model.py, line 18\n",
      "  def test_entree_simple():\n",
      "\u001b[31mE       fixture 'X' not found\u001b[0m\n",
      "\u001b[31m>       available fixtures: anyio_backend, anyio_backend_name, anyio_backend_options, cache, capfd, capfdbinary, caplog, capsys, capsysbinary, doctest_namespace, monkeypatch, pytestconfig, record_property, record_testsuite_property, record_xml_attribute, recwarn, tmp_path, tmp_path_factory, tmpdir, tmpdir_factory\u001b[0m\n",
      "\u001b[31m>       use 'pytest --fixtures [testpath]' for help on them.\u001b[0m\n",
      "\n",
      "/home/m2ml/nathan.gerussi.etu/Desktop/MLOPS/mlops_project/tests/test_model.py:18\n",
      "\u001b[31m\u001b[1m___________________ ERROR at setup of test_entree_unusuelle ____________________\u001b[0m\n",
      "file /home/m2ml/nathan.gerussi.etu/Desktop/MLOPS/mlops_project/tests/test_model.py, line 39\n",
      "  def test_entree_unusuelle():\n",
      "\u001b[31mE       fixture 'X' not found\u001b[0m\n",
      "\u001b[31m>       available fixtures: anyio_backend, anyio_backend_name, anyio_backend_options, cache, capfd, capfdbinary, caplog, capsys, capsysbinary, doctest_namespace, monkeypatch, pytestconfig, record_property, record_testsuite_property, record_xml_attribute, recwarn, tmp_path, tmp_path_factory, tmpdir, tmpdir_factory\u001b[0m\n",
      "\u001b[31m>       use 'pytest --fixtures [testpath]' for help on them.\u001b[0m\n",
      "\n",
      "/home/m2ml/nathan.gerussi.etu/Desktop/MLOPS/mlops_project/tests/test_model.py:39\n",
      "\u001b[31m\u001b[1m___________________ ERROR at setup of test_resultat_entendu ____________________\u001b[0m\n",
      "file /home/m2ml/nathan.gerussi.etu/Desktop/MLOPS/mlops_project/tests/test_model.py, line 49\n",
      "  def test_resultat_entendu():\n",
      "\u001b[31mE       fixture 'X' not found\u001b[0m\n",
      "\u001b[31m>       available fixtures: anyio_backend, anyio_backend_name, anyio_backend_options, cache, capfd, capfdbinary, caplog, capsys, capsysbinary, doctest_namespace, monkeypatch, pytestconfig, record_property, record_testsuite_property, record_xml_attribute, recwarn, tmp_path, tmp_path_factory, tmpdir, tmpdir_factory\u001b[0m\n",
      "\u001b[31m>       use 'pytest --fixtures [testpath]' for help on them.\u001b[0m\n",
      "\n",
      "/home/m2ml/nathan.gerussi.etu/Desktop/MLOPS/mlops_project/tests/test_model.py:49\n",
      "\u001b[31m\u001b[1m_______________________ ERROR at setup of test_accuracy ________________________\u001b[0m\n",
      "file /home/m2ml/nathan.gerussi.etu/Desktop/MLOPS/mlops_project/tests/test_model.py, line 63\n",
      "  def test_resultat_entendu():\n",
      "\u001b[31mE       fixture 'X' not found\u001b[0m\n",
      "\u001b[31m>       available fixtures: anyio_backend, anyio_backend_name, anyio_backend_options, cache, capfd, capfdbinary, caplog, capsys, capsysbinary, doctest_namespace, monkeypatch, pytestconfig, record_property, record_testsuite_property, record_xml_attribute, recwarn, tmp_path, tmp_path_factory, tmpdir, tmpdir_factory\u001b[0m\n",
      "\u001b[31m>       use 'pytest --fixtures [testpath]' for help on them.\u001b[0m\n",
      "\n",
      "/home/m2ml/nathan.gerussi.etu/Desktop/MLOPS/mlops_project/tests/test_model.py:63\n",
      "\u001b[36m\u001b[1m=========================== short test summary info ============================\u001b[0m\n",
      "\u001b[31mERROR\u001b[0m ../tests/test_model.py::\u001b[1mtest_entree_simple\u001b[0m\n",
      "\u001b[31mERROR\u001b[0m ../tests/test_model.py::\u001b[1mtest_entree_unusuelle\u001b[0m\n",
      "\u001b[31mERROR\u001b[0m ../tests/test_model.py::\u001b[1mtest_resultat_entendu\u001b[0m\n",
      "\u001b[31mERROR\u001b[0m ../tests/test_model.py::\u001b[1mtest_accuracy\u001b[0m\n",
      "\u001b[31m============================== \u001b[31m\u001b[1m4 errors\u001b[0m\u001b[31m in 0.02s\u001b[0m\u001b[31m ===============================\u001b[0m\n"
     ]
    },
    {
     "data": {
      "text/plain": [
       "<ExitCode.TESTS_FAILED: 1>"
      ]
     },
     "execution_count": 7,
     "metadata": {},
     "output_type": "execute_result"
    }
   ],
   "source": [
    "import pytest\n",
    "\n",
    "TEST_MODEL_NAME = \"logisticRegression\"\n",
    "TEST_MODEL_VERSION = 12\n",
    "TEST_FILE = \"../tests/test_model.py\"\n",
    "\n",
    "pytest.main([TEST_FILE])"
   ]
  },
  {
   "cell_type": "code",
   "execution_count": null,
   "id": "5d455522-92f3-49e9-b117-44c6a1ecbb5a",
   "metadata": {},
   "outputs": [],
   "source": []
  }
 ],
 "metadata": {
  "kernelspec": {
   "display_name": "Python 3 (ipykernel)",
   "language": "python",
   "name": "python3"
  },
  "language_info": {
   "codemirror_mode": {
    "name": "ipython",
    "version": 3
   },
   "file_extension": ".py",
   "mimetype": "text/x-python",
   "name": "python",
   "nbconvert_exporter": "python",
   "pygments_lexer": "ipython3",
   "version": "3.10.12"
  }
 },
 "nbformat": 4,
 "nbformat_minor": 5
}
