{
 "cells": [
  {
   "cell_type": "code",
   "execution_count": 1,
   "id": "eb8fcb6f-fc85-4dd9-b186-1f32a5629afd",
   "metadata": {},
   "outputs": [
    {
     "name": "stdout",
     "output_type": "stream",
     "text": [
      "\u001b[1m============================= test session starts ==============================\u001b[0m\n",
      "platform linux -- Python 3.10.12, pytest-8.3.3, pluggy-1.5.0\n",
      "rootdir: /home/m2ml/nathan.gerussi.etu/Desktop/MLOPS/mlops_project\n",
      "plugins: anyio-4.6.2.post1\n"
     ]
    },
    {
     "data": {
      "application/vnd.jupyter.widget-view+json": {
       "model_id": "60dd6d401b0c4ac995558bb574fcaecb",
       "version_major": 2,
       "version_minor": 0
      },
      "text/plain": [
       "Downloading artifacts:   0%|          | 0/5 [00:00<?, ?it/s]"
      ]
     },
     "metadata": {},
     "output_type": "display_data"
    },
    {
     "name": "stdout",
     "output_type": "stream",
     "text": [
      "collected 4 items\n",
      "\n",
      "../tests/test_model.py \u001b[32m.\u001b[0m\u001b[32m.\u001b[0m\u001b[32m.\u001b[0m\u001b[32m.\u001b[0m\u001b[33m                                              [100%]\u001b[0m\n",
      "\n",
      "\u001b[33m=============================== warnings summary ===============================\u001b[0m\n",
      "../../../../.local/lib/python3.10/site-packages/mlflow/gateway/config.py:64\n",
      "  /home/m2ml/nathan.gerussi.etu/.local/lib/python3.10/site-packages/mlflow/gateway/config.py:64: PydanticDeprecatedSince20: Pydantic V1 style `@validator` validators are deprecated. You should migrate to Pydantic V2 style `@field_validator` validators, see the migration guide for more details. Deprecated in Pydantic V2.0 to be removed in V3.0. See Pydantic V2 Migration Guide at https://errors.pydantic.dev/2.9/migration/\n",
      "    @validator(\"togetherai_api_key\", pre=True)\n",
      "\n",
      "../../../../.local/lib/python3.10/site-packages/mlflow/gateway/config.py:78\n",
      "  /home/m2ml/nathan.gerussi.etu/.local/lib/python3.10/site-packages/mlflow/gateway/config.py:78: PydanticDeprecatedSince20: Pydantic V1 style `@validator` validators are deprecated. You should migrate to Pydantic V2 style `@field_validator` validators, see the migration guide for more details. Deprecated in Pydantic V2.0 to be removed in V3.0. See Pydantic V2 Migration Guide at https://errors.pydantic.dev/2.9/migration/\n",
      "    @validator(\"cohere_api_key\", pre=True)\n",
      "\n",
      "../../../../.local/lib/python3.10/site-packages/mlflow/gateway/config.py:86\n",
      "  /home/m2ml/nathan.gerussi.etu/.local/lib/python3.10/site-packages/mlflow/gateway/config.py:86: PydanticDeprecatedSince20: Pydantic V1 style `@validator` validators are deprecated. You should migrate to Pydantic V2 style `@field_validator` validators, see the migration guide for more details. Deprecated in Pydantic V2.0 to be removed in V3.0. See Pydantic V2 Migration Guide at https://errors.pydantic.dev/2.9/migration/\n",
      "    @validator(\"ai21labs_api_key\", pre=True)\n",
      "\n",
      "../../../../.local/lib/python3.10/site-packages/mlflow/gateway/config.py:95\n",
      "  /home/m2ml/nathan.gerussi.etu/.local/lib/python3.10/site-packages/mlflow/gateway/config.py:95: PydanticDeprecatedSince20: Pydantic V1 style `@validator` validators are deprecated. You should migrate to Pydantic V2 style `@field_validator` validators, see the migration guide for more details. Deprecated in Pydantic V2.0 to be removed in V3.0. See Pydantic V2 Migration Guide at https://errors.pydantic.dev/2.9/migration/\n",
      "    @validator(\"mosaicml_api_key\", pre=True)\n",
      "\n",
      "../../../../.local/lib/python3.10/site-packages/mlflow/gateway/config.py:125\n",
      "  /home/m2ml/nathan.gerussi.etu/.local/lib/python3.10/site-packages/mlflow/gateway/config.py:125: PydanticDeprecatedSince20: Pydantic V1 style `@validator` validators are deprecated. You should migrate to Pydantic V2 style `@field_validator` validators, see the migration guide for more details. Deprecated in Pydantic V2.0 to be removed in V3.0. See Pydantic V2 Migration Guide at https://errors.pydantic.dev/2.9/migration/\n",
      "    @validator(\"openai_api_key\", pre=True)\n",
      "\n",
      "../../../../.local/lib/python3.10/site-packages/mlflow/gateway/config.py:182\n",
      "  /home/m2ml/nathan.gerussi.etu/.local/lib/python3.10/site-packages/mlflow/gateway/config.py:182: PydanticDeprecatedSince20: Pydantic V1 style `@validator` validators are deprecated. You should migrate to Pydantic V2 style `@field_validator` validators, see the migration guide for more details. Deprecated in Pydantic V2.0 to be removed in V3.0. See Pydantic V2 Migration Guide at https://errors.pydantic.dev/2.9/migration/\n",
      "    @validator(\"anthropic_api_key\", pre=True)\n",
      "\n",
      "../../../../.local/lib/python3.10/site-packages/mlflow/gateway/config.py:190\n",
      "  /home/m2ml/nathan.gerussi.etu/.local/lib/python3.10/site-packages/mlflow/gateway/config.py:190: PydanticDeprecatedSince20: Pydantic V1 style `@validator` validators are deprecated. You should migrate to Pydantic V2 style `@field_validator` validators, see the migration guide for more details. Deprecated in Pydantic V2.0 to be removed in V3.0. See Pydantic V2 Migration Guide at https://errors.pydantic.dev/2.9/migration/\n",
      "    @validator(\"palm_api_key\", pre=True)\n",
      "\n",
      "../../../../.local/lib/python3.10/site-packages/mlflow/gateway/config.py:230\n",
      "  /home/m2ml/nathan.gerussi.etu/.local/lib/python3.10/site-packages/mlflow/gateway/config.py:230: PydanticDeprecatedSince20: Pydantic V1 style `@validator` validators are deprecated. You should migrate to Pydantic V2 style `@field_validator` validators, see the migration guide for more details. Deprecated in Pydantic V2.0 to be removed in V3.0. See Pydantic V2 Migration Guide at https://errors.pydantic.dev/2.9/migration/\n",
      "    @validator(\"mistral_api_key\", pre=True)\n",
      "\n",
      "../../../../.local/lib/python3.10/site-packages/mlflow/gateway/config.py:284\n",
      "  /home/m2ml/nathan.gerussi.etu/.local/lib/python3.10/site-packages/mlflow/gateway/config.py:284: PydanticDeprecatedSince20: Pydantic V1 style `@validator` validators are deprecated. You should migrate to Pydantic V2 style `@field_validator` validators, see the migration guide for more details. Deprecated in Pydantic V2.0 to be removed in V3.0. See Pydantic V2 Migration Guide at https://errors.pydantic.dev/2.9/migration/\n",
      "    @validator(\"provider\", pre=True)\n",
      "\n",
      "../../../../.local/lib/python3.10/site-packages/mlflow/gateway/config.py:311\n",
      "  /home/m2ml/nathan.gerussi.etu/.local/lib/python3.10/site-packages/mlflow/gateway/config.py:311: PydanticDeprecatedSince20: Pydantic V1 style `@validator` validators are deprecated. You should migrate to Pydantic V2 style `@field_validator` validators, see the migration guide for more details. Deprecated in Pydantic V2.0 to be removed in V3.0. See Pydantic V2 Migration Guide at https://errors.pydantic.dev/2.9/migration/\n",
      "    @validator(\"config\", pre=True)\n",
      "\n",
      "../../../../.local/lib/python3.10/site-packages/mlflow/gateway/config.py:351\n",
      "  /home/m2ml/nathan.gerussi.etu/.local/lib/python3.10/site-packages/mlflow/gateway/config.py:351: PydanticDeprecatedSince20: Pydantic V1 style `@validator` validators are deprecated. You should migrate to Pydantic V2 style `@field_validator` validators, see the migration guide for more details. Deprecated in Pydantic V2.0 to be removed in V3.0. See Pydantic V2 Migration Guide at https://errors.pydantic.dev/2.9/migration/\n",
      "    @validator(\"name\")\n",
      "\n",
      "../../../../.local/lib/python3.10/site-packages/mlflow/gateway/config.py:361\n",
      "  /home/m2ml/nathan.gerussi.etu/.local/lib/python3.10/site-packages/mlflow/gateway/config.py:361: PydanticDeprecatedSince20: Pydantic V1 style `@validator` validators are deprecated. You should migrate to Pydantic V2 style `@field_validator` validators, see the migration guide for more details. Deprecated in Pydantic V2.0 to be removed in V3.0. See Pydantic V2 Migration Guide at https://errors.pydantic.dev/2.9/migration/\n",
      "    @validator(\"model\", pre=True)\n",
      "\n",
      "../../../../.local/lib/python3.10/site-packages/mlflow/gateway/config.py:372\n",
      "  /home/m2ml/nathan.gerussi.etu/.local/lib/python3.10/site-packages/mlflow/gateway/config.py:372: PydanticDeprecatedSince20: Pydantic V1 style `@root_validator` validators are deprecated. You should migrate to Pydantic V2 style `@model_validator` validators, see the migration guide for more details. Deprecated in Pydantic V2.0 to be removed in V3.0. See Pydantic V2 Migration Guide at https://errors.pydantic.dev/2.9/migration/\n",
      "    @root_validator(skip_on_failure=True)\n",
      "\n",
      "../../../../.local/lib/python3.10/site-packages/mlflow/gateway/config.py:394\n",
      "  /home/m2ml/nathan.gerussi.etu/.local/lib/python3.10/site-packages/mlflow/gateway/config.py:394: PydanticDeprecatedSince20: Pydantic V1 style `@validator` validators are deprecated. You should migrate to Pydantic V2 style `@field_validator` validators, see the migration guide for more details. Deprecated in Pydantic V2.0 to be removed in V3.0. See Pydantic V2 Migration Guide at https://errors.pydantic.dev/2.9/migration/\n",
      "    @validator(\"route_type\", pre=True)\n",
      "\n",
      "../../../../.local/lib/python3.10/site-packages/mlflow/gateway/config.py:400\n",
      "  /home/m2ml/nathan.gerussi.etu/.local/lib/python3.10/site-packages/mlflow/gateway/config.py:400: PydanticDeprecatedSince20: Pydantic V1 style `@validator` validators are deprecated. You should migrate to Pydantic V2 style `@field_validator` validators, see the migration guide for more details. Deprecated in Pydantic V2.0 to be removed in V3.0. See Pydantic V2 Migration Guide at https://errors.pydantic.dev/2.9/migration/\n",
      "    @validator(\"limit\", pre=True)\n",
      "\n",
      "../../../../.local/lib/python3.10/site-packages/pydantic/_internal/_config.py:291\n",
      "  /home/m2ml/nathan.gerussi.etu/.local/lib/python3.10/site-packages/pydantic/_internal/_config.py:291: PydanticDeprecatedSince20: Support for class-based `config` is deprecated, use ConfigDict instead. Deprecated in Pydantic V2.0 to be removed in V3.0. See Pydantic V2 Migration Guide at https://errors.pydantic.dev/2.9/migration/\n",
      "    warnings.warn(DEPRECATION_MESSAGE, DeprecationWarning)\n",
      "\n",
      "tests/test_model.py::test_entree_simple\n",
      "  /home/m2ml/nathan.gerussi.etu/.local/lib/python3.10/site-packages/sklearn/feature_extraction/text.py:406: UserWarning: Your stop_words may be inconsistent with your preprocessing. Tokenizing the stop words generated tokens ['neuf', 'qu', 'quelqu'] not in stop_words.\n",
      "    warnings.warn(\n",
      "\n",
      "-- Docs: https://docs.pytest.org/en/stable/how-to/capture-warnings.html\n",
      "\u001b[33m======================== \u001b[32m4 passed\u001b[0m, \u001b[33m\u001b[1m17 warnings\u001b[0m\u001b[33m in 2.06s\u001b[0m\u001b[33m ========================\u001b[0m\n"
     ]
    },
    {
     "data": {
      "text/plain": [
       "<ExitCode.OK: 0>"
      ]
     },
     "execution_count": 1,
     "metadata": {},
     "output_type": "execute_result"
    }
   ],
   "source": [
    "import pytest\n",
    "\n",
    "TEST_MODEL_NAME = \"logisticRegression\"\n",
    "TEST_MODEL_VERSION = 12\n",
    "TEST_FILE = \"../tests/test_model.py\"\n",
    "\n",
    "pytest.main([TEST_FILE])"
   ]
  },
  {
   "cell_type": "code",
   "execution_count": null,
   "id": "5d455522-92f3-49e9-b117-44c6a1ecbb5a",
   "metadata": {},
   "outputs": [],
   "source": []
  }
 ],
 "metadata": {
  "kernelspec": {
   "display_name": "Python 3 (ipykernel)",
   "language": "python",
   "name": "python3"
  },
  "language_info": {
   "codemirror_mode": {
    "name": "ipython",
    "version": 3
   },
   "file_extension": ".py",
   "mimetype": "text/x-python",
   "name": "python",
   "nbconvert_exporter": "python",
   "pygments_lexer": "ipython3",
   "version": "3.10.12"
  }
 },
 "nbformat": 4,
 "nbformat_minor": 5
}
